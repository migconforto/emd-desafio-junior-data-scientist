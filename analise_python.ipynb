{
  "nbformat": 4,
  "nbformat_minor": 0,
  "metadata": {
    "colab": {
      "provenance": []
    },
    "kernelspec": {
      "name": "python3",
      "display_name": "Python 3"
    },
    "language_info": {
      "name": "python"
    }
  },
  "cells": [
    {
      "cell_type": "code",
      "source": [
        "import basedosdados as bd\n",
        "#Lendo a base para as questões 1 a 5\n",
        "query = \"\"\"\n",
        "SELECT\n",
        "  tb_chamado.*,\n",
        "  tb_bairro.nome,\n",
        "  tb_bairro.subprefeitura\n",
        "FROM datario.adm_central_atendimento_1746.chamado tb_chamado\n",
        "LEFT JOIN datario.dados_mestres.bairro tb_bairro\n",
        "  ON tb_chamado.id_bairro = tb_bairro.id_bairro\n",
        "WHERE DATE(tb_chamado.data_inicio) = '2023-04-01'\n",
        "\"\"\"\n",
        "\n",
        "df = bd.read_sql(query=query, billing_project_id=\"teste-433114\")\n",
        "respostas = {}"
      ],
      "metadata": {
        "colab": {
          "base_uri": "https://localhost:8080/"
        },
        "id": "okEq-gcF46VD",
        "outputId": "6ac03d3e-85e5-4e0e-a4db-371aa4ea8f16"
      },
      "execution_count": 156,
      "outputs": [
        {
          "output_type": "stream",
          "name": "stderr",
          "text": [
            "Downloading: 100%|██████████| 1756/1756 [00:00<00:00, 2138.66rows/s]\n"
          ]
        }
      ]
    },
    {
      "cell_type": "code",
      "source": [
        "#Perguntas 1 a 5\n",
        "#Pergunta 01\n",
        "qtd_chamados = df['id_chamado'].count()\n",
        "respostas.update({\"pergunta_01\": qtd_chamados})\n",
        "\n",
        "#Pergunta 02\n",
        "tipo_chamado = df.groupby('tipo')['id_chamado'].count().sort_values(ascending=False).index[0]\n",
        "respostas.update({\"pergunta_02\": tipo_chamado})\n",
        "\n",
        "#Pergunta 03\n",
        "bairro_chamado = df.groupby('nome')['id_chamado'].count().sort_values(ascending=False).index[0:3]\n",
        "respostas.update({\"pergunta_03\": bairro_chamado})\n",
        "\n",
        "#Pergunta 04\n",
        "subprefeitura_chamado = df.groupby(['subprefeitura'])['id_chamado'].count().sort_values(ascending=False).index[0]\n",
        "respostas.update({\"pergunta_04\": subprefeitura_chamado})\n",
        "\n",
        "#Pergunta 05\n",
        "chamados_null = df[df['id_bairro'].isnull() | df['subprefeitura'].isnull()]['id_chamado'].count()\n",
        "respostas.update({\"pergunta_05\": chamados_null})"
      ],
      "metadata": {
        "id": "07r1fhSw-Gea"
      },
      "execution_count": 157,
      "outputs": []
    },
    {
      "cell_type": "code",
      "source": [
        "#Lendo a base para as questões 6 a 10\n",
        "query = \"\"\"\n",
        "SELECT\n",
        "  tb_chamado.id_chamado,\n",
        "  DATE(tb_chamado.data_inicio) AS data_inicio,\n",
        "  tb_chamado.subtipo\n",
        "FROM datario.adm_central_atendimento_1746.chamado tb_chamado\n",
        "WHERE DATE(tb_chamado.data_inicio) BETWEEN '2022-01-01' AND '2023-12-31'\n",
        "  AND tb_chamado.subtipo = 'Perturbação do sossego'\n",
        "\"\"\"\n",
        "\n",
        "df = bd.read_sql(query=query, billing_project_id=\"teste-433114\")\n",
        "df_eventos = bd.read_sql(query=\"SELECT * FROM `datario.turismo_fluxo_visitantes.rede_hoteleira_ocupacao_eventos`\", billing_project_id=\"teste-433114\")\n",
        "df_eventos['dias_evento'] = (df_eventos['data_final'] - df_eventos['data_inicial']).dt.days + 1"
      ],
      "metadata": {
        "colab": {
          "base_uri": "https://localhost:8080/"
        },
        "collapsed": true,
        "id": "pg4wegSs_cFX",
        "outputId": "2c882e0b-8de7-4328-c380-dfdc77012651"
      },
      "execution_count": 158,
      "outputs": [
        {
          "output_type": "stream",
          "name": "stderr",
          "text": [
            "Downloading: 100%|██████████| 42830/42830 [00:01<00:00, 24359.45rows/s]\n",
            "Downloading: 100%|██████████| 8/8 [00:00<00:00, 49.96rows/s]\n"
          ]
        }
      ]
    },
    {
      "cell_type": "code",
      "source": [
        "#Perguntas 6 a 10\n",
        "#Pergunta 06\n",
        "qtd_chamados = df['id_chamado'].count()\n",
        "respostas.update({\"pergunta_06\": qtd_chamados})\n",
        "\n",
        "#Pergunta 07\n",
        "import pandas as pd #chamando a biblioteca pandas\n",
        "chamados_eventos = []\n",
        "for _, row in df_eventos.iterrows(): #Iterando linha a linha do dataframe de eventos\n",
        "  inicio = row['data_inicial'] #data inicial do evento\n",
        "  fim = row['data_final'] #data final do evento\n",
        "  evento = row['evento'] #nome do evento\n",
        "  #criando tabela temporária para realizar o loop\n",
        "  temp = df[(df['data_inicio'] >= inicio) & (df['data_inicio'] <= fim)].copy() #Filtrando eventos que ocorreram entre as datas do evento\n",
        "  temp['evento'] = evento\n",
        "  chamados_eventos.append(temp)\n",
        "\n",
        "chamados_eventos = pd.concat(chamados_eventos) #Concatenando todas as semi-tableas geradas no loop\n",
        "chamados_eventos = chamados_eventos.drop_duplicates(subset=['id_chamado']) #removendo id's duplicados\n",
        "respostas.update({\"pergunta_07\": chamados_eventos})\n",
        "\n",
        "#Pergunta 08\n",
        "qtd_chamados_evento = respostas['pergunta_07'].groupby('evento')['id_chamado'].count().sort_values(ascending=False)\n",
        "respostas.update({\"pergunta_08\": qtd_chamados_evento.head(1)})\n",
        "\n",
        "#Pergunta 09\n",
        "soma_dias_evento = df_eventos.drop_duplicates(subset=['evento', 'data_inicial', 'data_final']).groupby('evento')['dias_evento'].sum()\n",
        "med_dias_chamados = (qtd_chamados_evento/soma_dias_evento).sort_values(ascending=False)\n",
        "respostas.update({\"pergunta_09\": med_dias_chamados.head(1)})\n",
        "\n",
        "#Pergunta 10\n",
        "dias_periodo = (df['data_inicio'].max() - df['data_inicio'].min()).days + 1\n",
        "med_dias_chamados['med_total_chamados'] = qtd_chamados/dias_periodo\n",
        "respostas.update({\"pergunta_10\": med_dias_chamados})"
      ],
      "metadata": {
        "id": "4bqH6XKWFBQT",
        "collapsed": true
      },
      "execution_count": 159,
      "outputs": []
    },
    {
      "cell_type": "code",
      "source": [
        "#Exibindo as respostas\n",
        "for pergunta, resposta in respostas.items():\n",
        "  print(f\"Resposta da {pergunta}: {resposta}\")"
      ],
      "metadata": {
        "colab": {
          "base_uri": "https://localhost:8080/"
        },
        "id": "o6KVI4L8qdqc",
        "outputId": "eaca98a8-bdb6-4e23-c643-2502c8eca2dd"
      },
      "execution_count": 160,
      "outputs": [
        {
          "output_type": "stream",
          "name": "stdout",
          "text": [
            "Resposta da pergunta_01: 1756\n",
            "Resposta da pergunta_02: Estacionamento irregular\n",
            "Resposta da pergunta_03: Index(['Campo Grande', 'Tijuca', 'Barra da Tijuca'], dtype='object', name='nome')\n",
            "Resposta da pergunta_04: Zona Norte\n",
            "Resposta da pergunta_05: 73\n",
            "Resposta da pergunta_06: 42830\n",
            "Resposta da pergunta_07:       id_chamado data_inicio                 subtipo       evento\n",
            "24389   17662396  2022-09-03  Perturbação do sossego  Rock in Rio\n",
            "24398   17663234  2022-09-03  Perturbação do sossego  Rock in Rio\n",
            "24417   17663056  2022-09-03  Perturbação do sossego  Rock in Rio\n",
            "24423   17661947  2022-09-03  Perturbação do sossego  Rock in Rio\n",
            "24461   17659216  2022-09-02  Perturbação do sossego  Rock in Rio\n",
            "...          ...         ...                     ...          ...\n",
            "32905   18078426  2022-12-31  Perturbação do sossego    Reveillon\n",
            "32925   18079582  2022-12-31  Perturbação do sossego    Reveillon\n",
            "32930   18078672  2022-12-31  Perturbação do sossego    Reveillon\n",
            "32931   18075943  2022-12-30  Perturbação do sossego    Reveillon\n",
            "32936   18078455  2022-12-31  Perturbação do sossego    Reveillon\n",
            "\n",
            "[1214 rows x 4 columns]\n",
            "Resposta da pergunta_08: evento\n",
            "Rock in Rio    834\n",
            "Name: id_chamado, dtype: int64\n",
            "Resposta da pergunta_09: evento\n",
            "Rock in Rio    119.142857\n",
            "dtype: float64\n",
            "Resposta da pergunta_10: evento\n",
            "Rock in Rio           119.142857\n",
            "Carnaval               60.250000\n",
            "Reveillon              46.333333\n",
            "med_total_chamados     58.913343\n",
            "dtype: float64\n"
          ]
        }
      ]
    }
  ]
}